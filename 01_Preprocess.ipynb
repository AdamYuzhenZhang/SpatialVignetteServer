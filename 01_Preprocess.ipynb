{
 "cells": [
  {
   "cell_type": "markdown",
   "id": "59c805ac",
   "metadata": {},
   "source": [
    "# Step 1 - Preprocess ##\n",
    "\n",
    "Do the following:\n",
    "\n",
    "1. Lift subject with SAM2 from rgb image.\n",
    "\n",
    "2. Clean the points, remove low confidence from Lidar, offset edge from depth_anything_v2\n",
    "\n",
    "3. Convert to `ProcessedVignette` class\n",
    "\n",
    "4. Subdivide with DBSCAN"
   ]
  },
  {
   "cell_type": "markdown",
   "id": "db558a43",
   "metadata": {},
   "source": [
    "## 1.1 SAM2 ##"
   ]
  },
  {
   "cell_type": "code",
   "execution_count": null,
   "id": "4fcb6917",
   "metadata": {
    "vscode": {
     "languageId": "plaintext"
    }
   },
   "outputs": [],
   "source": []
  },
  {
   "cell_type": "markdown",
   "id": "3fcccbfa",
   "metadata": {},
   "source": [
    "## 1.2 Cleanup ##"
   ]
  },
  {
   "cell_type": "code",
   "execution_count": null,
   "id": "85e86563",
   "metadata": {
    "vscode": {
     "languageId": "plaintext"
    }
   },
   "outputs": [],
   "source": []
  },
  {
   "cell_type": "markdown",
   "id": "8f1b491c",
   "metadata": {},
   "source": [
    "## 1.3 ProcessedVignette ##"
   ]
  },
  {
   "cell_type": "code",
   "execution_count": null,
   "id": "066d98cc",
   "metadata": {
    "vscode": {
     "languageId": "plaintext"
    }
   },
   "outputs": [],
   "source": []
  },
  {
   "cell_type": "markdown",
   "id": "9c0aa16e",
   "metadata": {},
   "source": [
    "## 1.4 DBSCAN ##"
   ]
  },
  {
   "cell_type": "code",
   "execution_count": null,
   "id": "0d03b172",
   "metadata": {
    "vscode": {
     "languageId": "plaintext"
    }
   },
   "outputs": [],
   "source": []
  }
 ],
 "metadata": {
  "language_info": {
   "name": "python"
  }
 },
 "nbformat": 4,
 "nbformat_minor": 5
}
