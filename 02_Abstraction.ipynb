{
 "cells": [
  {
   "cell_type": "markdown",
   "id": "b0b42547",
   "metadata": {},
   "source": [
    "# Step 2 - Abstraction #\n",
    "\n",
    "1. From local 3D points\n",
    "2. From 2D RGB image\n",
    "3. From All 3D points\n",
    "4. Higher Level Structural Analysis"
   ]
  },
  {
   "cell_type": "code",
   "execution_count": null,
   "id": "c5cc6713",
   "metadata": {},
   "outputs": [],
   "source": [
    "from pathlib import Path\n",
    "import sys\n",
    "\n",
    "project_root = Path.cwd()\n",
    "if str(project_root) not in sys.path:\n",
    "    sys.path.append(str(project_root))"
   ]
  },
  {
   "cell_type": "code",
   "execution_count": null,
   "id": "28b906a5",
   "metadata": {},
   "outputs": [],
   "source": [
    "VIGNETTE_NAME = \"capture4\"\n",
    "VIGNETTE_PATH = project_root / \"test_data\" / VIGNETTE_NAME"
   ]
  },
  {
   "cell_type": "markdown",
   "id": "98d8753f",
   "metadata": {},
   "source": [
    "## 2.1 Abstraction from Local 3D Points ##"
   ]
  },
  {
   "cell_type": "code",
   "execution_count": null,
   "id": "a7f1049c",
   "metadata": {},
   "outputs": [],
   "source": []
  },
  {
   "cell_type": "markdown",
   "id": "78599940",
   "metadata": {},
   "source": [
    "## 2.2 Abstraction from 2D RGB Image ##"
   ]
  },
  {
   "cell_type": "code",
   "execution_count": null,
   "id": "a42850c6",
   "metadata": {},
   "outputs": [],
   "source": []
  },
  {
   "cell_type": "markdown",
   "id": "64036811",
   "metadata": {},
   "source": [
    "## 2.3 Abstraction from All 3D Points ##"
   ]
  },
  {
   "cell_type": "code",
   "execution_count": null,
   "id": "94113e42",
   "metadata": {},
   "outputs": [],
   "source": []
  },
  {
   "cell_type": "markdown",
   "id": "12ed0e05",
   "metadata": {},
   "source": [
    "## 2.4 Higher Level Structural Analysis ##"
   ]
  },
  {
   "cell_type": "code",
   "execution_count": null,
   "id": "edd6968c",
   "metadata": {},
   "outputs": [],
   "source": []
  }
 ],
 "metadata": {
  "language_info": {
   "name": "python"
  }
 },
 "nbformat": 4,
 "nbformat_minor": 5
}
